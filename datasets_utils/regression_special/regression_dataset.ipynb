{
 "cells": [
  {
   "cell_type": "code",
   "execution_count": 7,
   "metadata": {},
   "outputs": [],
   "source": [
    "import jax\n",
    "import jax.numpy as jnp\n",
    "import os"
   ]
  },
  {
   "cell_type": "code",
   "execution_count": 8,
   "metadata": {},
   "outputs": [],
   "source": [
    "key = jax.random.PRNGKey(0)"
   ]
  },
  {
   "cell_type": "code",
   "execution_count": 9,
   "metadata": {},
   "outputs": [],
   "source": [
    "def generate_data(n_samples,n_features):\n",
    "    \"\"\"\n",
    "    Generate synthetic regression data using random Fourier features\n",
    "    \n",
    "    Parameters:\n",
    "    -----------\n",
    "    n_samples : int\n",
    "        Number of samples to generate\n",
    "    d : int \n",
    "        Dimension of input features\n",
    "    m : int\n",
    "        Number of random features\n",
    "    sigma : float\n",
    "        Standard deviation for weight initialization\n",
    "    noise : float\n",
    "        Standard deviation of Gaussian noise\n",
    "        \n",
    "    Returns:\n",
    "    --------\n",
    "    X : array of shape [n_samples, d]\n",
    "        Input features\n",
    "    y : array of shape [n_samples]\n",
    "        Target values\n",
    "    \"\"\"\n",
    "    X = jax.random.uniform(key, shape=(n_samples, n_features),minval=-1,maxval=1)\n",
    "    # Calculate labels using tanh function\n",
    "    # Y = jnp.sin(jnp.sum(5*X, axis=1))/jnp.sum(5*X, axis=1)\n",
    "    Y = 1-2*jnp.mean(X**2, axis=1)\n",
    "    \n",
    "    return jnp.array(X), jnp.array(Y)\n",
    "    \n",
    "    \n",
    "\n"
   ]
  },
  {
   "cell_type": "code",
   "execution_count": 10,
   "metadata": {},
   "outputs": [],
   "source": [
    "def generate_dataset(features,labels,M_total,M_train,M_test,key=jax.random.PRNGKey(0)):\n",
    "    \n",
    "    # subsample train and test split\n",
    "    test_indices = jax.random.choice(key,M_total, shape=(M_test,), replace=False)\n",
    "    \n",
    "    \n",
    "\n",
    "    train_indices = jax.random.choice(key,\n",
    "        jnp.setdiff1d(jnp.arange(M_total), test_indices), shape=(M_train,), replace=False)\n",
    "        \n",
    "    \n",
    "    x_train, y_train = features[train_indices], labels[train_indices]\n",
    "    x_test, y_test = features[test_indices], labels[test_indices]\n",
    "    \n",
    "\n",
    "    return jnp.array(x_train),jnp.array(y_train),jnp.array(x_test),jnp.array(y_test)"
   ]
  },
  {
   "cell_type": "code",
   "execution_count": 11,
   "metadata": {},
   "outputs": [],
   "source": [
    "def save_dataset(n_qubits,M_train,M_test,datasets_path,data_type=\"regression\",M_total = 20000):\n",
    "    \n",
    "    os.makedirs(f\"{datasets_path}/{data_type}\", exist_ok=True)\n",
    "    n_features =  n_qubits -2  # Dimensionality\n",
    "    # Generate synthetic data\n",
    "    n_samples = M_total\n",
    "    features,labels = generate_data(n_samples,n_features)\n",
    "    print(features.shape)\n",
    "    x_train,y_train,x_test,y_test = generate_dataset(features,labels,M_total,M_train,M_test)\n",
    "    jnp.save(f\"{datasets_path}/{data_type}/x_train_qubit_{n_qubits}_sample_{M_train}.npy\",x_train)\n",
    "    jnp.save(f\"{datasets_path}/{data_type}/y_train_qubit_{n_qubits}_sample_{M_train}.npy\",y_train)\n",
    "    jnp.save(f\"{datasets_path}/{data_type}/x_test_qubit_{n_qubits}_sample_{M_test}.npy\",x_test)\n",
    "    jnp.save(f\"{datasets_path}/{data_type}/y_test_qubit_{n_qubits}_sample_{M_test}.npy\",y_test)\n",
    "    "
   ]
  },
  {
   "cell_type": "code",
   "execution_count": 10,
   "metadata": {},
   "outputs": [
    {
     "name": "stdout",
     "output_type": "stream",
     "text": [
      "(20000, 6)\n"
     ]
    }
   ],
   "source": [
    "save_dataset(N=6,M_train=50,M_test=10000)"
   ]
  },
  {
   "cell_type": "code",
   "execution_count": 12,
   "metadata": {},
   "outputs": [],
   "source": [
    "datasets_path = '../../datasets'\n",
    "data_type = \"regression_special\""
   ]
  },
  {
   "cell_type": "code",
   "execution_count": 14,
   "metadata": {},
   "outputs": [
    {
     "name": "stdout",
     "output_type": "stream",
     "text": [
      "(20000, 1)\n",
      "(20000, 4)\n",
      "(20000, 7)\n",
      "(20000, 10)\n",
      "(20000, 1)\n",
      "(20000, 4)\n",
      "(20000, 7)\n",
      "(20000, 10)\n",
      "(20000, 1)\n",
      "(20000, 4)\n",
      "(20000, 7)\n",
      "(20000, 10)\n",
      "(20000, 1)\n",
      "(20000, 4)\n",
      "(20000, 7)\n",
      "(20000, 10)\n",
      "(20000, 1)\n",
      "(20000, 4)\n",
      "(20000, 7)\n",
      "(20000, 10)\n",
      "(20000, 1)\n",
      "(20000, 4)\n",
      "(20000, 7)\n",
      "(20000, 10)\n"
     ]
    }
   ],
   "source": [
    "for M in [10,250,500,1000,1500,2000]:\n",
    "    for n in [3,6,9,12]:\n",
    "        save_dataset(n_qubits=n,M_train=M,M_test=10000,datasets_path=datasets_path,data_type=data_type)"
   ]
  },
  {
   "cell_type": "code",
   "execution_count": 10,
   "metadata": {},
   "outputs": [
    {
     "name": "stdout",
     "output_type": "stream",
     "text": [
      "(20000, 6)\n",
      "(20000, 6)\n",
      "(20000, 6)\n",
      "(20000, 6)\n",
      "(20000, 6)\n",
      "(20000, 6)\n",
      "(20000, 6)\n",
      "(20000, 6)\n"
     ]
    }
   ],
   "source": [
    "for n_samples in [10,100,250,500,1000,1500,2000,5000]:\n",
    "    save_dataset(N=6,M_train=n_samples,M_test=10000)"
   ]
  },
  {
   "cell_type": "code",
   "execution_count": 96,
   "metadata": {},
   "outputs": [],
   "source": [
    "a = jnp.load(\"x_train_qubit_6_sample_2000_regression.npy\")"
   ]
  },
  {
   "cell_type": "code",
   "execution_count": 97,
   "metadata": {},
   "outputs": [
    {
     "data": {
      "text/plain": [
       "(2000, 6)"
      ]
     },
     "execution_count": 97,
     "metadata": {},
     "output_type": "execute_result"
    }
   ],
   "source": [
    "a.shape"
   ]
  },
  {
   "cell_type": "code",
   "execution_count": null,
   "metadata": {},
   "outputs": [],
   "source": []
  },
  {
   "cell_type": "code",
   "execution_count": null,
   "metadata": {},
   "outputs": [],
   "source": []
  }
 ],
 "metadata": {
  "kernelspec": {
   "display_name": "quantum",
   "language": "python",
   "name": "python3"
  },
  "language_info": {
   "codemirror_mode": {
    "name": "ipython",
    "version": 3
   },
   "file_extension": ".py",
   "mimetype": "text/x-python",
   "name": "python",
   "nbconvert_exporter": "python",
   "pygments_lexer": "ipython3",
   "version": "3.11.9"
  }
 },
 "nbformat": 4,
 "nbformat_minor": 2
}
