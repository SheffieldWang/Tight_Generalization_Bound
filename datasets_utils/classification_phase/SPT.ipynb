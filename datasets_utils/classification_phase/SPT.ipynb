{
 "cells": [
  {
   "cell_type": "code",
   "execution_count": null,
   "metadata": {},
   "outputs": [],
   "source": [
    "import os\n",
    "import pennylane as qml\n",
    "import jax.numpy as jnp\n",
    "import numpy as np\n",
    "import jax\n",
    "import matplotlib.pyplot as plt\n",
    "from tqdm import tqdm,trange\n",
    "from tqdm.notebook import tqdm\n"
   ]
  },
  {
   "cell_type": "code",
   "execution_count": 2,
   "metadata": {},
   "outputs": [],
   "source": [
    "jax.config.update('jax_platform_name', 'cpu')\n",
    "jax.config.update(\"jax_enable_x64\", True)\n"
   ]
  },
  {
   "cell_type": "code",
   "execution_count": 3,
   "metadata": {},
   "outputs": [],
   "source": [
    "def generate_hamiltonian(n,kappa,h):\n",
    "    \"\"\"\n",
    "    Generating Hamiltonian of n-qubit Heisenberg model.\n",
    "\n",
    "    Args:\n",
    "        - n (int): The number of qubits \n",
    "\n",
    "    Returns:\n",
    "        - cost_h (qml.Hamiltonian): the hamiltonian of n-qubit Heisenberg model\n",
    "    \"\"\"\n",
    "    obs = []\n",
    "    coeffs = []\n",
    "    \n",
    "    for i in range(n-1):\n",
    "        obs.append(qml.PauliX(i) @ qml.PauliX(i+1))\n",
    "        coeffs.append(-1)\n",
    "    for i in range(n-2):\n",
    "        obs.append(qml.PauliX(i) @ qml.PauliX(i+2))\n",
    "        coeffs.append(kappa)\n",
    "    for i in range(n):\n",
    "        obs.append(qml.PauliZ(i))\n",
    "        coeffs.append(-h)\n",
    "    cost_h = qml.Hamiltonian(coeffs, obs)\n",
    "    return cost_h"
   ]
  },
  {
   "cell_type": "code",
   "execution_count": 4,
   "metadata": {},
   "outputs": [],
   "source": [
    "n = 6"
   ]
  },
  {
   "cell_type": "code",
   "execution_count": null,
   "metadata": {},
   "outputs": [],
   "source": []
  },
  {
   "cell_type": "code",
   "execution_count": 5,
   "metadata": {},
   "outputs": [],
   "source": [
    "def get_state(cost_h):\n",
    "    Hmat = qml.Hamiltonian.sparse_matrix(cost_h).toarray()\n",
    "    spectrum = np.linalg.eig(Hmat)\n",
    "    # ground_energy = np.min(spectrum[0])\n",
    "    ground_state = spectrum[1][:,np.argmin(spectrum[0])]\n",
    "\n",
    "    return ground_state"
   ]
  },
  {
   "cell_type": "code",
   "execution_count": 6,
   "metadata": {},
   "outputs": [],
   "source": [
    "def phase_bound_left(kappa):\n",
    "    if kappa < 0.5 and kappa > 0:\n",
    "        h = (1-kappa)/kappa * (1 - jnp.sqrt((1-3*kappa+4*kappa**2)/(1-kappa)))\n",
    "    elif kappa == 0:\n",
    "        h = 1.0\n",
    "    else:\n",
    "        h=0\n",
    "    return h"
   ]
  },
  {
   "cell_type": "code",
   "execution_count": 7,
   "metadata": {},
   "outputs": [],
   "source": [
    "def phase_bound_right(kappa):\n",
    "    if kappa > 0.5:\n",
    "        h = 1.05 * jnp.sqrt((kappa-0.5)*(kappa-0.1))\n",
    "    else:\n",
    "        h = 0\n",
    "    return h"
   ]
  },
  {
   "cell_type": "code",
   "execution_count": 8,
   "metadata": {},
   "outputs": [],
   "source": [
    "def get_label(kappa,h):\n",
    "    if h < phase_bound_left(kappa) or h < phase_bound_right(kappa):\n",
    "        label = 1\n",
    "    else:\n",
    "        label = -1 \n",
    "    return label"
   ]
  },
  {
   "cell_type": "code",
   "execution_count": 9,
   "metadata": {},
   "outputs": [],
   "source": [
    "kappa_list = jnp.linspace(0, 1, 300)\n",
    "h_list = jnp.linspace(0, 1.5, 300)\n",
    "K, H = jnp.meshgrid(kappa_list, h_list)\n",
    "rows, cols = K.shape"
   ]
  },
  {
   "cell_type": "code",
   "execution_count": null,
   "metadata": {},
   "outputs": [],
   "source": []
  },
  {
   "cell_type": "code",
   "execution_count": 10,
   "metadata": {},
   "outputs": [],
   "source": [
    "# Generate N random samples\n",
    "N = 20000\n",
    "key = jax.random.PRNGKey(42)  # For reproducibility\n",
    "\n",
    "# Generate random kappa and h values within bounds\n",
    "kappas = jax.random.uniform(key, shape=(N,), minval=0.0, maxval=1.0)\n",
    "key, subkey = jax.random.split(key)\n",
    "hs = jax.random.uniform(subkey, shape=(N,), minval=0.0, maxval=1.5)\n"
   ]
  },
  {
   "cell_type": "code",
   "execution_count": null,
   "metadata": {},
   "outputs": [],
   "source": [
    "\n",
    "# Generate labels\n",
    "X_train = []\n",
    "y_train = []\n",
    "\n",
    "\n",
    "\n",
    "for kappa, h in tqdm(zip(kappas, hs), total=N, desc='Generating training data'):\n",
    "    cost_h = generate_hamiltonian(n, kappa, h)\n",
    "    state = get_state(cost_h)\n",
    "    X_train.append(state)\n",
    "    y_train.append(get_label(kappa, h))\n"
   ]
  },
  {
   "cell_type": "code",
   "execution_count": 12,
   "metadata": {},
   "outputs": [],
   "source": [
    "X_train = np.array(X_train)\n",
    "y_train = np.array(y_train)\n"
   ]
  },
  {
   "cell_type": "code",
   "execution_count": 13,
   "metadata": {},
   "outputs": [],
   "source": [
    "X_total = X_train\n",
    "Y_total = y_train\n"
   ]
  },
  {
   "cell_type": "code",
   "execution_count": 14,
   "metadata": {},
   "outputs": [
    {
     "data": {
      "text/plain": [
       "(20000, 64)"
      ]
     },
     "execution_count": 14,
     "metadata": {},
     "output_type": "execute_result"
    }
   ],
   "source": [
    "X_train.shape"
   ]
  },
  {
   "cell_type": "code",
   "execution_count": 15,
   "metadata": {},
   "outputs": [],
   "source": [
    "def generate_dataset(features,labels,M_total,M_train,M_test,key=jax.random.PRNGKey(0)):\n",
    "    \n",
    "    # subsample train and test split\n",
    "    test_indices = jax.random.choice(key,M_total, shape=(M_test,), replace=False)\n",
    "    \n",
    "    \n",
    "\n",
    "    train_indices = jax.random.choice(key,\n",
    "        jnp.setdiff1d(jnp.arange(M_total), test_indices), shape=(M_train,), replace=False)\n",
    "        \n",
    "    \n",
    "    x_train, y_train = features[train_indices], labels[train_indices]\n",
    "    x_test, y_test = features[test_indices], labels[test_indices]\n",
    "    \n",
    "\n",
    "    return jnp.array(x_train),jnp.array(y_train),jnp.array(x_test),jnp.array(y_test)"
   ]
  },
  {
   "cell_type": "code",
   "execution_count": null,
   "metadata": {},
   "outputs": [],
   "source": [
    "def save_dataset(n_qubits,M_train,M_test,datasets_path,data_type,seed,M_total = 20000):\n",
    "    # Generate synthetic data\n",
    "    os.makedirs(f\"{datasets_path}/{data_type}_{seed}\", exist_ok=True)\n",
    "    features,labels = X_total,Y_total\n",
    "    print(features.shape)\n",
    "    x_train,y_train,x_test,y_test = generate_dataset(features,labels,M_total,M_train,M_test)\n",
    "    jnp.save(f\"x_train_qubit_{n_qubits}_sample_{M_train}_{data_type}.npy\",x_train)\n",
    "    jnp.save(f\"y_train_qubit_{n_qubits}_sample_{M_train}_{data_type}.npy\",y_train)\n",
    "    jnp.save(f\"x_test_qubit_{n_qubits}_sample_{M_test}_{data_type}.npy\",x_test)\n",
    "    jnp.save(f\"y_test_qubit_{n_qubits}_sample_{M_test}_{data_type}.npy\",y_test)\n",
    "    "
   ]
  },
  {
   "cell_type": "code",
   "execution_count": null,
   "metadata": {},
   "outputs": [],
   "source": [
    "datasets_path = '../../datasets'\n",
    "data_type = \"classification_phase\"\n",
    "n_qubits = 6"
   ]
  },
  {
   "cell_type": "code",
   "execution_count": null,
   "metadata": {},
   "outputs": [],
   "source": [
    "\n",
    "for seed in range(1,10):\n",
    "    for M_train in [10,500,1000,1500,2000]:\n",
    "        save_dataset(n_qubits=n_qubits,M_train=M_train,M_test=10000,datasets_path=datasets_path,data_type=data_type,seed=seed)"
   ]
  }
 ],
 "metadata": {
  "kernelspec": {
   "display_name": "quantum",
   "language": "python",
   "name": "python3"
  },
  "language_info": {
   "codemirror_mode": {
    "name": "ipython",
    "version": 3
   },
   "file_extension": ".py",
   "mimetype": "text/x-python",
   "name": "python",
   "nbconvert_exporter": "python",
   "pygments_lexer": "ipython3",
   "version": "3.11.9"
  }
 },
 "nbformat": 4,
 "nbformat_minor": 2
}
