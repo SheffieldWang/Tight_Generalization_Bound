{
 "cells": [
  {
   "cell_type": "code",
   "execution_count": 1,
   "metadata": {},
   "outputs": [],
   "source": [
    "import numpy as np \n",
    "import os \n",
    "import jax\n",
    "import jax.numpy as jnp"
   ]
  },
  {
   "cell_type": "code",
   "execution_count": 2,
   "metadata": {},
   "outputs": [
    {
     "name": "stdout",
     "output_type": "stream",
     "text": [
      "JAX platform set to CPU with 64-bit precision enabled\n"
     ]
    }
   ],
   "source": [
    "# Set JAX to use CPU instead of GPU\n",
    "jax.config.update('jax_platform_name', 'cpu')\n",
    "\n",
    "# Enable 64-bit precision (x64)\n",
    "jax.config.update(\"jax_enable_x64\", True)\n",
    "\n",
    "print(\"JAX platform set to CPU with 64-bit precision enabled\")\n"
   ]
  },
  {
   "cell_type": "code",
   "execution_count": null,
   "metadata": {},
   "outputs": [],
   "source": []
  },
  {
   "cell_type": "code",
   "execution_count": 7,
   "metadata": {},
   "outputs": [],
   "source": [
    "def save_dataset(M_train,seed,datasets_path,data_type,M_total=5000):\n",
    "\n",
    "    n_qubits = 6\n",
    "    # Create directory if it doesn't exist\n",
    "    os.makedirs(f\"{datasets_path}/{data_type}_{seed}\", exist_ok=True)\n",
    "    \n",
    "    features = np.load(\"x_train_qubit_6_sample_5000.npy\")\n",
    "    labels = np.load(\"y_train_qubit_6_sample_5000.npy\")\n",
    "\n",
    "    # Set random seed for reproducibility\n",
    "    key = jax.random.PRNGKey(seed)\n",
    "\n",
    "    # Get total number of samples\n",
    "    n_samples = M_total\n",
    "\n",
    "    # Randomly select 100 indices\n",
    "    selected_indices = jax.random.choice(key, n_samples, shape=(M_train,), replace=False)\n",
    "\n",
    "    # Extract the selected samples\n",
    "    x_train = jnp.take(features, selected_indices, axis=0)\n",
    "    y_train = jnp.take(labels, selected_indices, axis=0)\n",
    "    x_train,y_train \n",
    "    jnp.save(f\"{datasets_path}/{data_type}_{seed}/x_train_qubit_{n_qubits}_sample_{M_train}.npy\",x_train)\n",
    "    jnp.save(f\"{datasets_path}/{data_type}_{seed}/y_train_qubit_{n_qubits}_sample_{M_train}.npy\",y_train)\n",
    "\n",
    "    "
   ]
  },
  {
   "cell_type": "code",
   "execution_count": 8,
   "metadata": {},
   "outputs": [],
   "source": [
    "datasets_path = '../../datasets'\n",
    "data_type = \"regression\""
   ]
  },
  {
   "cell_type": "code",
   "execution_count": 9,
   "metadata": {},
   "outputs": [],
   "source": [
    "for seed in range(1,10):\n",
    "    for M_train in [10,250,500,1000,1500,2000]:\n",
    "        save_dataset(M_train,seed,datasets_path=datasets_path,data_type=data_type)"
   ]
  },
  {
   "cell_type": "code",
   "execution_count": null,
   "metadata": {},
   "outputs": [],
   "source": []
  }
 ],
 "metadata": {
  "kernelspec": {
   "display_name": "quantum",
   "language": "python",
   "name": "python3"
  },
  "language_info": {
   "codemirror_mode": {
    "name": "ipython",
    "version": 3
   },
   "file_extension": ".py",
   "mimetype": "text/x-python",
   "name": "python",
   "nbconvert_exporter": "python",
   "pygments_lexer": "ipython3",
   "version": "3.11.9"
  }
 },
 "nbformat": 4,
 "nbformat_minor": 2
}
